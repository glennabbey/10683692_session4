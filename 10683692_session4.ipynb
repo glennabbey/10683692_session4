{
 "cells": [
  {
   "cell_type": "code",
   "execution_count": 3,
   "metadata": {
    "scrolled": false
   },
   "outputs": [
    {
     "name": "stdout",
     "output_type": "stream",
     "text": [
      "Input size of the filter Eg:8x8,4x4, other sizes? :8*8\n",
      "THIS IS THE FILTER THAT WOULD BE APPLIED TO THE IMAGE\n",
      "[[7.61624117e-07 1.52976293e-05 1.13035041e-04 3.07261099e-04\n",
      "  3.07261099e-04 1.13035041e-04 1.52976293e-05 7.61624117e-07]\n",
      " [1.52976293e-05 3.07261099e-04 2.27036949e-03 6.17150414e-03\n",
      "  6.17150414e-03 2.27036949e-03 3.07261099e-04 1.52976293e-05]\n",
      " [1.13035041e-04 2.27036949e-03 1.67758876e-02 4.56015903e-02\n",
      "  4.56015903e-02 1.67758876e-02 2.27036949e-03 1.13035041e-04]\n",
      " [3.07261099e-04 6.17150414e-03 4.56015903e-02 1.23957974e-01\n",
      "  1.23957974e-01 4.56015903e-02 6.17150414e-03 3.07261099e-04]\n",
      " [3.07261099e-04 6.17150414e-03 4.56015903e-02 1.23957974e-01\n",
      "  1.23957974e-01 4.56015903e-02 6.17150414e-03 3.07261099e-04]\n",
      " [1.13035041e-04 2.27036949e-03 1.67758876e-02 4.56015903e-02\n",
      "  4.56015903e-02 1.67758876e-02 2.27036949e-03 1.13035041e-04]\n",
      " [1.52976293e-05 3.07261099e-04 2.27036949e-03 6.17150414e-03\n",
      "  6.17150414e-03 2.27036949e-03 3.07261099e-04 1.52976293e-05]\n",
      " [7.61624117e-07 1.52976293e-05 1.13035041e-04 3.07261099e-04\n",
      "  3.07261099e-04 1.13035041e-04 1.52976293e-05 7.61624117e-07]]\n",
      "Specify the size of the Image :10\n",
      "THIS IS THE IMAGE THAT THE FILTER WILL BE APPLIED ON\n",
      "[[0.63160903 0.49268994 0.96025502 0.28434604 0.04732677 0.21252949\n",
      "  0.51964551 0.36629277 0.66985188 0.76145562]\n",
      " [0.2516126  0.08748486 0.02125988 0.65455789 0.12564205 0.21238968\n",
      "  0.83567968 0.68444724 0.2006973  0.2764539 ]\n",
      " [0.93533099 0.72914443 0.27027802 0.57696082 0.50588809 0.69767318\n",
      "  0.65167374 0.45741677 0.35975381 0.29611083]\n",
      " [0.65882651 0.2302146  0.21319796 0.52247406 0.72525626 0.11105387\n",
      "  0.50035921 0.13322746 0.3364179  0.35557005]\n",
      " [0.92511624 0.97226286 0.98026633 0.79350244 0.16635628 0.77349175\n",
      "  0.40217426 0.43692816 0.86757046 0.52475627]\n",
      " [0.51265325 0.66317208 0.07113516 0.47476533 0.82137742 0.45727658\n",
      "  0.98873286 0.71277449 0.91820032 0.46898262]\n",
      " [0.03009915 0.10460566 0.93628797 0.45243034 0.32691492 0.60932662\n",
      "  0.41972804 0.65221979 0.17793335 0.73116703]\n",
      " [0.26298339 0.51221674 0.82125856 0.25331479 0.21548085 0.97155313\n",
      "  0.28977434 0.4408602  0.4665425  0.89283721]\n",
      " [0.73389881 0.26461661 0.54919795 0.16019358 0.11145459 0.31614267\n",
      "  0.14626355 0.04370418 0.25297162 0.8268034 ]\n",
      " [0.0334826  0.80195175 0.74630938 0.96002042 0.70008453 0.21759636\n",
      "  0.83867273 0.1618981  0.17889624 0.79716789]]\n"
     ]
    },
    {
     "ename": "ValueError",
     "evalue": "operands could not be broadcast together with shapes (7,7) (8,8) ",
     "output_type": "error",
     "traceback": [
      "\u001b[1;31m---------------------------------------------------------------------------\u001b[0m",
      "\u001b[1;31mValueError\u001b[0m                                Traceback (most recent call last)",
      "\u001b[1;32m<ipython-input-3-e7280ff41f37>\u001b[0m in \u001b[0;36m<module>\u001b[1;34m\u001b[0m\n\u001b[0;32m     22\u001b[0m \u001b[1;32mfor\u001b[0m \u001b[0my\u001b[0m \u001b[1;32min\u001b[0m \u001b[0mrange\u001b[0m\u001b[1;33m(\u001b[0m\u001b[0mscope\u001b[0m\u001b[1;33m,\u001b[0m \u001b[0mimage\u001b[0m\u001b[1;33m.\u001b[0m\u001b[0mshape\u001b[0m\u001b[1;33m[\u001b[0m\u001b[1;36m0\u001b[0m\u001b[1;33m]\u001b[0m\u001b[1;33m-\u001b[0m\u001b[0mscope\u001b[0m\u001b[1;33m)\u001b[0m\u001b[1;33m:\u001b[0m\u001b[1;33m\u001b[0m\u001b[1;33m\u001b[0m\u001b[0m\n\u001b[0;32m     23\u001b[0m     \u001b[1;32mfor\u001b[0m \u001b[0mx\u001b[0m \u001b[1;32min\u001b[0m \u001b[0mrange\u001b[0m\u001b[1;33m(\u001b[0m\u001b[0mscope\u001b[0m\u001b[1;33m,\u001b[0m \u001b[0mimage\u001b[0m\u001b[1;33m.\u001b[0m\u001b[0mshape\u001b[0m\u001b[1;33m[\u001b[0m\u001b[1;36m1\u001b[0m\u001b[1;33m]\u001b[0m\u001b[1;33m-\u001b[0m\u001b[0mscope\u001b[0m\u001b[1;33m)\u001b[0m\u001b[1;33m:\u001b[0m\u001b[1;33m\u001b[0m\u001b[1;33m\u001b[0m\u001b[0m\n\u001b[1;32m---> 24\u001b[1;33m         \u001b[0mgaussianFilter\u001b[0m\u001b[1;33m[\u001b[0m\u001b[0my\u001b[0m\u001b[1;33m-\u001b[0m\u001b[0mscope\u001b[0m\u001b[1;33m]\u001b[0m\u001b[1;33m[\u001b[0m\u001b[0mx\u001b[0m\u001b[1;33m-\u001b[0m\u001b[0mscope\u001b[0m\u001b[1;33m]\u001b[0m \u001b[1;33m=\u001b[0m \u001b[0mnp\u001b[0m\u001b[1;33m.\u001b[0m\u001b[0msum\u001b[0m\u001b[1;33m(\u001b[0m\u001b[0mnp\u001b[0m\u001b[1;33m.\u001b[0m\u001b[0mmultiply\u001b[0m\u001b[1;33m(\u001b[0m\u001b[0mimage\u001b[0m\u001b[1;33m[\u001b[0m\u001b[0my\u001b[0m\u001b[1;33m-\u001b[0m\u001b[0mscope\u001b[0m\u001b[1;33m:\u001b[0m\u001b[0my\u001b[0m\u001b[1;33m+\u001b[0m\u001b[0mscope\u001b[0m\u001b[1;33m+\u001b[0m\u001b[1;36m1\u001b[0m\u001b[1;33m,\u001b[0m \u001b[0mx\u001b[0m\u001b[1;33m-\u001b[0m\u001b[0mscope\u001b[0m\u001b[1;33m:\u001b[0m\u001b[0mx\u001b[0m\u001b[1;33m+\u001b[0m\u001b[0mscope\u001b[0m\u001b[1;33m+\u001b[0m\u001b[1;36m1\u001b[0m\u001b[1;33m]\u001b[0m\u001b[1;33m,\u001b[0m \u001b[0mmask_k\u001b[0m\u001b[1;33m)\u001b[0m\u001b[1;33m)\u001b[0m\u001b[1;33m\u001b[0m\u001b[1;33m\u001b[0m\u001b[0m\n\u001b[0m\u001b[0;32m     25\u001b[0m \u001b[0mprint\u001b[0m\u001b[1;33m(\u001b[0m\u001b[1;34m\"THIS IS THE IMAGE AFTER THE FILTER HAS BEEN APPLIED ON IT\"\u001b[0m\u001b[1;33m)\u001b[0m\u001b[1;33m\u001b[0m\u001b[1;33m\u001b[0m\u001b[0m\n\u001b[0;32m     26\u001b[0m \u001b[1;33m(\u001b[0m\u001b[0mnp\u001b[0m\u001b[1;33m.\u001b[0m\u001b[0marray\u001b[0m\u001b[1;33m(\u001b[0m\u001b[0mgaussianFilter\u001b[0m\u001b[1;33m)\u001b[0m\u001b[1;33m)\u001b[0m\u001b[1;33m\u001b[0m\u001b[1;33m\u001b[0m\u001b[0m\n",
      "\u001b[1;31mValueError\u001b[0m: operands could not be broadcast together with shapes (7,7) (8,8) "
     ]
    }
   ],
   "source": [
    "import numpy as np\n",
    "import math\n",
    "size=str(input(\"Input size of the filter Eg:8x8,5x5, other sizes? :\" ))\n",
    "size=size[0]\n",
    "size=int(size)\n",
    "mask =  np.fromfunction(lambda x, y: (1/(2*math.pi*1**2)) * math.e **((-1*((x-(size-1)/2)**2+(y-(size-1)/2)**2))/(2*1**2)),(size, size))\n",
    "print(\"THIS IS THE FILTER THAT WOULD BE APPLIED TO THE IMAGE\")\n",
    "mask_k=mask / np.sum(mask)\n",
    "print(np.array(mask_k))\n",
    "Image=str(input(\"Specify the size of the Image :\"))\n",
    "yes=\"10x10\"\n",
    "Row=Image.split(\"x\")[0]\n",
    "Column=Image.split(\"x\")[-1]\n",
    "a=yes.split(\"x\")[0]\n",
    "Row=int(Row)\n",
    "Column=int(Column)\n",
    "image=np.random.rand(Row,Column)\n",
    "print(\"THIS IS THE IMAGE THAT THE FILTER WILL BE APPLIED ON\")\n",
    "print(np.array(image))\n",
    "scope = int((size-1)/2)\n",
    "gaussianFilter = np.zeros((image.shape[0]-2*scope, image.shape[1]-2*scope))\n",
    "for y in range(scope, image.shape[0]-scope):\n",
    "    for x in range(scope, image.shape[1]-scope):\n",
    "        gaussianFilter[y-scope][x-scope] = np.sum(np.multiply(image[y-scope:y+scope+1, x-scope:x+scope+1], mask_k))\n",
    "print(\"THIS IS THE IMAGE AFTER THE FILTER HAS BEEN APPLIED ON IT\")\n",
    "(np.array(gaussianFilter))\n"
   ]
  },
  {
   "cell_type": "code",
   "execution_count": null,
   "metadata": {},
   "outputs": [],
   "source": []
  },
  {
   "cell_type": "code",
   "execution_count": null,
   "metadata": {},
   "outputs": [],
   "source": []
  },
  {
   "cell_type": "code",
   "execution_count": null,
   "metadata": {},
   "outputs": [],
   "source": []
  },
  {
   "cell_type": "code",
   "execution_count": null,
   "metadata": {},
   "outputs": [],
   "source": []
  }
 ],
 "metadata": {
  "kernelspec": {
   "display_name": "Python 3",
   "language": "python",
   "name": "python3"
  },
  "language_info": {
   "codemirror_mode": {
    "name": "ipython",
    "version": 3
   },
   "file_extension": ".py",
   "mimetype": "text/x-python",
   "name": "python",
   "nbconvert_exporter": "python",
   "pygments_lexer": "ipython3",
   "version": "3.8.5"
  }
 },
 "nbformat": 4,
 "nbformat_minor": 4
}
